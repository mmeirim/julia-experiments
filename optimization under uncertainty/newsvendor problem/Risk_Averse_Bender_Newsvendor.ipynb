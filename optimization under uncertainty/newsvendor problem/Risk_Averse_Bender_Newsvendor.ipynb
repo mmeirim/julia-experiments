{
 "cells": [
  {
   "cell_type": "code",
   "execution_count": 1,
   "id": "8fec719a",
   "metadata": {
    "tags": []
   },
   "outputs": [],
   "source": [
    "using JuMP, Clp, Plots"
   ]
  },
  {
   "cell_type": "code",
   "execution_count": 6,
   "id": "1e03d686",
   "metadata": {},
   "outputs": [
    {
     "data": {
      "text/plain": [
       "0.0"
      ]
     },
     "execution_count": 6,
     "metadata": {},
     "output_type": "execute_result"
    }
   ],
   "source": [
    "N = 1\n",
    "d = collect(60:N:150)\n",
    "p = (1/size(d,1))*ones(size(d,1));\n",
    "λ = 0.9\n",
    "ω = 0.0"
   ]
  },
  {
   "cell_type": "code",
   "execution_count": 3,
   "id": "af17ec39",
   "metadata": {},
   "outputs": [
    {
     "data": {
      "text/plain": [
       "Q (generic function with 1 method)"
      ]
     },
     "execution_count": 3,
     "metadata": {},
     "output_type": "execute_result"
    }
   ],
   "source": [
    "function Q(x,ξ)\n",
    "    m = Model(Clp.Optimizer)\n",
    "    set_optimizer_attribute(m, \"LogLevel\",0)\n",
    "    @variables(m, \n",
    "    begin\n",
    "        y ≥ 0\n",
    "        w ≥ 0\n",
    "    end)\n",
    "\n",
    "    @constraints(m,\n",
    "    begin\n",
    "        y ≤ ξ\n",
    "        aux, y + w ≤ x\n",
    "    end)\n",
    "\n",
    "    @objective(m, Min, -25 * y - 5 * w)\n",
    "    optimize!(m)\n",
    "    return objective_value(m), shadow_price(aux)\n",
    "end"
   ]
  },
  {
   "cell_type": "code",
   "execution_count": 4,
   "id": "a183b748",
   "metadata": {},
   "outputs": [
    {
     "data": {
      "text/plain": [
       "cvar (generic function with 1 method)"
      ]
     },
     "execution_count": 4,
     "metadata": {},
     "output_type": "execute_result"
    }
   ],
   "source": [
    "function cvar(q_list)\n",
    "    c = Model(Clp.Optimizer)\n",
    "    set_optimizer_attribute(c, \"LogLevel\",0)\n",
    "    @variables(c, \n",
    "    begin\n",
    "        q[1:size(q_list,1)] ≥ 0\n",
    "    end)\n",
    "\n",
    "    @constraints(c,\n",
    "    begin\n",
    "        sum(q[s] for s = 1:size(q_list,1)) == 1\n",
    "        aux[s=1:size(q_list,1)], q[s] ≤ (p[s]/(1-λ))\n",
    "    end)\n",
    "\n",
    "    @objective(c, Max, sum(q[s]*q_list[s] for s = 1:size(q_list,1)))\n",
    "    optimize!(c)\n",
    "    return value.(q)\n",
    "end "
   ]
  },
  {
   "cell_type": "code",
   "execution_count": 7,
   "id": "dd848eca",
   "metadata": {},
   "outputs": [
    {
     "name": "stdout",
     "output_type": "stream",
     "text": [
      "Iteration 1: x̂1: 0.0 | Lower Bound: -9999.0 & Uper Bound: 0.0\n",
      "===========\n",
      "Iteration 2: x̂2: 150.0 | Lower Bound: -2249.999999999998 & Uper Bound: -1349.9999999999995\n",
      "===========\n",
      "Iteration 3: x̂3: 105.00000000000004 | Lower Bound: -1574.9999999999995 & Uper Bound: -1347.5274725274708\n",
      "===========\n",
      "Iteration 4: x̂4: 128.0000000000001 | Lower Bound: -1459.9999999999989 & Uper Bound: -1404.3956043956016\n",
      "===========\n",
      "Iteration 5: x̂5: 116.99999999999984 | Lower Bound: -1406.2087912087884 & Uper Bound: -1391.7032967032935\n",
      "===========\n",
      "Iteration 6: x̂6: 123.00000000000003 | Lower Bound: -1405.2197802197777 & Uper Bound: -1401.923076923075\n",
      "===========\n",
      "Iteration 7: x̂7: 125.99999999999905 | Lower Bound: -1404.7252747252714 & Uper Bound: -1404.0659340659336\n",
      "===========\n",
      "Iteration 8: x̂8: 127.499999999994 | Lower Bound: -1404.47802197802 & Uper Bound: -1404.3681318681301\n",
      "===========\n",
      "**SOLUTION FOUND**\n",
      "Iteration 9: x̂9: 127.99999999999181 | Lower Bound: -1404.3956043956032 & Uper Bound: -1404.3956043956036\n",
      "===========\n"
     ]
    }
   ],
   "source": [
    "master = Model(Clp.Optimizer)\n",
    "set_optimizer_attribute(master, \"LogLevel\",0)\n",
    "@variable(master,x>=0)\n",
    "@variable(master,α)\n",
    "@constraint(master, α >= -9999)\n",
    "@constraint(master, x<=150)\n",
    "@objective(master, Min, 10*x + α)\n",
    "optimize!(master);\n",
    "\n",
    "iterator = 1\n",
    "Q̂i_list = []\n",
    "πi_list = []\n",
    "x̂i_list = []\n",
    "LB_list = []\n",
    "UB_list = []\n",
    "\n",
    "while true\n",
    "    LB = objective_value(master)\n",
    "    x̂i = value(x)\n",
    "    append!(x̂i_list, x̂i)\n",
    "    \n",
    "    slave_Q̄i_list = []\n",
    "    slave_πi_list = []\n",
    "    for ξ in d\n",
    "        q̂, pî = Q(x̂i,ξ)\n",
    "        append!(slave_Q̄i_list, q̂)\n",
    "        append!(slave_πi_list, pî)\n",
    "    end\n",
    "    \n",
    "    p_alt = cvar(slave_Q̄i_list)\n",
    "    \n",
    "    Q̂i = sum(((1-ω) * p[s] + ω * p_alt[s]) * slave_Q̄i_list[s] for s = 1:size(d,1))\n",
    "    πi = sum(((1-ω) * p[s] + ω * p_alt[s]) * slave_πi_list[s] for s = 1:size(d,1))\n",
    "\n",
    "\n",
    "    l_i = x-> Q̂i + πi*(x-x̂i)\n",
    "    append!(Q̂i_list, Q̂i)\n",
    "    append!(πi_list, πi)\n",
    "    \n",
    "    UB = 10*x̂i + sum(((1-ω) * p[s] + ω * p_alt[s]) * slave_Q̄i_list[s] for s = 1:size(d,1))  \n",
    "    append!(LB_list, LB)\n",
    "    append!(UB_list, UB)\n",
    "        \n",
    "    if trunc(LB, digits=5) == trunc(UB, digits=5)\n",
    "        println(\"**SOLUTION FOUND**\")\n",
    "        println( \"Iteration $(iterator): x̂$(iterator): $(x̂i) | Lower Bound: $(LB) & Uper Bound: $(UB)\")\n",
    "        println(\"===========\")\n",
    "        break\n",
    "    else\n",
    "        println( \"Iteration $(iterator): x̂$(iterator): $(x̂i) | Lower Bound: $(LB) & Uper Bound: $(UB)\")\n",
    "        println(\"===========\")\n",
    "    end  \n",
    "    @constraint(master, α >= l_i(x))\n",
    "    optimize!(master);\n",
    "    \n",
    "    iterator += 1\n",
    "end"
   ]
  }
 ],
 "metadata": {
  "kernelspec": {
   "display_name": "Julia 1.6.0",
   "language": "julia",
   "name": "julia-1.6"
  },
  "language_info": {
   "file_extension": ".jl",
   "mimetype": "application/julia",
   "name": "julia",
   "version": "1.6.0"
  }
 },
 "nbformat": 4,
 "nbformat_minor": 5
}
