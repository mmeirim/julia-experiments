{
 "cells": [
  {
   "cell_type": "code",
   "execution_count": 1,
   "id": "1f4bc739",
   "metadata": {},
   "outputs": [],
   "source": [
    "using JuMP, Cbc, Clp"
   ]
  },
  {
   "cell_type": "code",
   "execution_count": 15,
   "id": "49a51333",
   "metadata": {},
   "outputs": [
    {
     "data": {
      "text/plain": [
       "0.9"
      ]
     },
     "execution_count": 15,
     "metadata": {},
     "output_type": "execute_result"
    }
   ],
   "source": [
    "N = 1\n",
    "d = collect(60:N:150)\n",
    "p = (1/size(d,1))*ones(size(d,1))\n",
    "α = 0.9"
   ]
  },
  {
   "cell_type": "code",
   "execution_count": 18,
   "id": "7c0ccaac",
   "metadata": {},
   "outputs": [
    {
     "name": "stdout",
     "output_type": "stream",
     "text": [
      "=========== ω = 0.0 ===========\n",
      "optimal solution = -1404.3956043956057\n",
      "x = 128.0\n",
      "l = 0.0\n",
      "=========== ω = 0.1 ===========\n",
      "optimal solution = -1138.7307692307695\n",
      "x = 123.0\n",
      "l = 0.0\n",
      "=========== ω = 0.2 ===========\n",
      "optimal solution = -879.3846153846151\n",
      "x = 116.0\n",
      "l = 0.0\n",
      "=========== ω = 0.3 ===========\n",
      "optimal solution = -629.0769230769229\n",
      "x = 108.0\n",
      "l = 0.0\n",
      "=========== ω = 0.4 ===========\n",
      "optimal solution = -392.296703296703\n",
      "x = 97.0\n",
      "l = 0.0\n",
      "=========== ω = 0.5 ===========\n",
      "optimal solution = -177.19780219780307\n",
      "x = 82.0\n",
      "l = 0.0\n",
      "=========== ω = 0.6 ===========\n",
      "optimal solution = -3.9968028886505635e-13\n",
      "x = 60.0\n",
      "l = 0.0\n",
      "=========== ω = 0.7 ===========\n",
      "optimal solution = 0.0\n",
      "x = 0.0\n",
      "l = 0.0\n",
      "=========== ω = 0.8 ===========\n",
      "optimal solution = 0.0\n",
      "x = 0.0\n",
      "l = 0.0\n",
      "=========== ω = 0.9 ===========\n",
      "optimal solution = 0.0\n",
      "x = 0.0\n",
      "l = 0.0\n",
      "=========== ω = 1.0 ===========\n",
      "optimal solution = 0.0\n",
      "x = 0.0\n",
      "l = 0.0\n"
     ]
    }
   ],
   "source": [
    "for ω in 0.0:0.1:1.0\n",
    "    \n",
    "    model_Newsvendor = Model(Clp.Optimizer)\n",
    "    set_optimizer_attribute(model_Newsvendor, \"LogLevel\",0)\n",
    "\n",
    "    @variables(model_Newsvendor,\n",
    "    begin\n",
    "        x ≥ 0\n",
    "        l ≥ 0\n",
    "        y[1:size(d,1)] ≥ 0\n",
    "        w[1:size(d,1)] ≥ 0\n",
    "        θ[1:size(d,1)] ≥ 0\n",
    "    end)\n",
    "\n",
    "    @constraints(model_Newsvendor,\n",
    "    begin\n",
    "        ct1[s=1:size(d,1)], y[s] ≤ d[s]\n",
    "        ct2[s=1:size(d,1)], y[s] + w[s] ≤ x\n",
    "        ct3[s=1:size(d,1)], θ[s] ≥ -25*y[s] -5*w[s] - l\n",
    "    end)\n",
    "\n",
    "    @objective(model_Newsvendor, Min, 10 * x + (1-ω)*sum(p[s]*(-25*y[s] -5*w[s]) for s = 1:size(d,1)) + ω * (l + sum(p[s]*θ[s] for s = 1:size(d,1))/ (1-α)))\n",
    "    optimize!(model_Newsvendor);\n",
    "    \n",
    "    println(\"=========== ω = $(ω) ===========\")\n",
    "    println(\"optimal solution = $(objective_value(model_Newsvendor))\")\n",
    "    println(\"x = $(value(x))\")\n",
    "    println(\"l = $(value(l))\")\n",
    "#     println(\"w = $(value.(w))\")\n",
    "#     println(\"y = $(value.(y))\")\n",
    "#     println(\"θ = $(value.(θ))\")\n",
    "\n",
    "end"
   ]
  }
 ],
 "metadata": {
  "kernelspec": {
   "display_name": "Julia 1.6.0",
   "language": "julia",
   "name": "julia-1.6"
  },
  "language_info": {
   "file_extension": ".jl",
   "mimetype": "application/julia",
   "name": "julia",
   "version": "1.6.0"
  }
 },
 "nbformat": 4,
 "nbformat_minor": 5
}
