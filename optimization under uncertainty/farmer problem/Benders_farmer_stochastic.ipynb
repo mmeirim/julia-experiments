{
 "cells": [
  {
   "cell_type": "code",
   "execution_count": 1,
   "id": "2d4698cc",
   "metadata": {
    "tags": []
   },
   "outputs": [],
   "source": [
    "using JuMP, Clp, Plots"
   ]
  },
  {
   "cell_type": "code",
   "execution_count": 2,
   "id": "bef6de48",
   "metadata": {},
   "outputs": [],
   "source": [
    "plantacao = [\"Wheat\", \"Corn\", \"Sugar Cane\"]\n",
    "produtos = [\"Wheat\", \"Corn\", \"Sugar Cane High\", \"Sugar Cane Low\"]\n",
    "cenarios = [1, 2, 3]\n",
    "preco_venda = [170, 150, 36, 10]\n",
    "preco_producao = [150, 230, 260]\n",
    "producao = [ 3    2.5  2  ;\n",
    "             3.6  3    2.4;\n",
    "            24   20   16]\n",
    "preco_compra = [238, 210]\n",
    "qtd_exigida = [200, 240]\n",
    "terra_disponivel = 500\n",
    "max_sugar_cane_high = 6000;"
   ]
  },
  {
   "cell_type": "code",
   "execution_count": 3,
   "id": "bdf5ad48",
   "metadata": {},
   "outputs": [
    {
     "data": {
      "text/plain": [
       "Q (generic function with 1 method)"
      ]
     },
     "execution_count": 3,
     "metadata": {},
     "output_type": "execute_result"
    }
   ],
   "source": [
    "function Q(xW,xC,xS,ξ)\n",
    "    m = Model(Clp.Optimizer)\n",
    "    set_optimizer_attribute(m, \"LogLevel\",0)\n",
    "    @variables(m, \n",
    "    begin\n",
    "        zw\n",
    "        zc\n",
    "        zs\n",
    "        W[produtos] >= 0\n",
    "        Y[produtos[1:2]] >= 0\n",
    "    end)\n",
    "\n",
    "    @constraints(m,\n",
    "    begin\n",
    "        HERD_REQUIREMENTS_WHEAT, producao[1, ξ] * zw + Y[\"Wheat\"] - W[\"Wheat\"] >= qtd_exigida[1] \n",
    "        HERD_REQUIREMENTS_CORN, producao[2, ξ] * zc + Y[\"Corn\"] - W[\"Corn\"] >= qtd_exigida[2]\n",
    "        SUGAR_CANE_IMPOSITIONS_1, sum(W[pr] for pr in produtos[3:4]) <= producao[3,ξ] * zs\n",
    "        SUGAR_CANE_IMPOSITIONS_2, W[produtos[3]] <= max_sugar_cane_high\n",
    "        auxW, zw == xW\n",
    "        auxC, zc == xC\n",
    "        auxS, zs == xS\n",
    "    end)\n",
    "\n",
    "    @objective(m, Min,sum(preco_compra[ipr] * Y[pr] for (ipr, pr) in enumerate(produtos[1:2]))\n",
    "                     - sum(preco_venda[ipr] * W[pr] for (ipr, pr) in enumerate(produtos)))\n",
    "    optimize!(m)\n",
    "    return objective_value(m), shadow_price(auxW), shadow_price(auxC), shadow_price(auxS) \n",
    "end"
   ]
  },
  {
   "cell_type": "code",
   "execution_count": 4,
   "id": "65ab7793",
   "metadata": {},
   "outputs": [
    {
     "name": "stdout",
     "output_type": "stream",
     "text": [
      "Iteration 1: x̂1[\"Wheat\"]: 0.0 & x̂1[\"Corn\"]: 0.0 & x̂1[\"SugarCane\"]: 0.0\n",
      "Lower Bound: -999999.0 & Uper Bound: 98000.0\n",
      "===========\n",
      "Iteration 2: x̂2[\"Wheat\"]: 0.0 & x̂2[\"Corn\"]: 0.0 & x̂2[\"SugarCane\"]: 500.0\n",
      "Lower Bound: -132000.00000000003 & Uper Bound: -28000.0\n",
      "===========\n",
      "Iteration 3: x̂3[\"Wheat\"]: 200.0 & x̂3[\"Corn\"]: 0.0 & x̂3[\"SugarCane\"]: 300.0\n",
      "Lower Bound: -129000.0 & Uper Bound: -98200.0\n",
      "===========\n",
      "Iteration 4: x̂4[\"Wheat\"]: 345.74132492113574 & x̂4[\"Corn\"]: 0.0 & x̂4[\"SugarCane\"]: 154.2586750788643\n",
      "Lower Bound: -126813.88012618298 & Uper Bound: -81637.85488958991\n",
      "===========\n",
      "Iteration 5: x̂5[\"Wheat\"]: 80.00000000000021 & x̂5[\"Corn\"]: 147.27272727272714 & x̂5[\"SugarCane\"]: 272.72727272727263\n",
      "Lower Bound: -121963.63636363631 & Uper Bound: -104220.60606060606\n",
      "===========\n",
      "Iteration 6: x̂6[\"Wheat\"]: 158.74125874125886 & x̂6[\"Corn\"]: 68.53146853146848 & x̂6[\"SugarCane\"]: 272.72727272727263\n",
      "Lower Bound: -112120.97902097902 & Uper Bound: -107259.44055944055\n",
      "===========\n",
      "Iteration 7: x̂7[\"Wheat\"]: 153.98658718330864 & x̂7[\"Corn\"]: 111.54992548435162 & x̂7[\"SugarCane\"]: 234.46348733233967\n",
      "Lower Bound: -110419.4858420268 & Uper Bound: -104740.49925484351\n",
      "===========\n",
      "Iteration 8: x̂8[\"Wheat\"]: 137.3151638155989 & x̂8[\"Corn\"]: 104.5520440707451 & x̂8[\"SugarCane\"]: 258.132792113656\n",
      "Lower Bound: -109504.20411713542 & Uper Bound: -107812.58335749498\n",
      "===========\n",
      "Iteration 9: x̂9[\"Wheat\"]: 161.11111111111086 & x̂9[\"Corn\"]: 88.88888888888911 & x̂9[\"SugarCane\"]: 250.00000000000003\n",
      "Lower Bound: -108861.11111111112 & Uper Bound: -108327.77777777778\n",
      "===========\n",
      "Iteration 10: x̂10[\"Wheat\"]: 174.61538461538467 & x̂10[\"Corn\"]: 80.0 & x̂10[\"SugarCane\"]: 245.38461538461533\n",
      "Lower Bound: -108496.15384615387 & Uper Bound: -107536.15384615381\n",
      "===========\n",
      "**SOLUTION FOUND**\n",
      "Iteration 11: x̂11[\"Wheat\"]: 169.99999999999952 & x̂11[\"Corn\"]: 80.00000000000026 & x̂11[\"SugarCane\"]: 250.00000000000023\n",
      "Lower Bound: -108390.00000000001 & Uper Bound: -108389.99999999996\n",
      "===========\n"
     ]
    }
   ],
   "source": [
    "master = Model(Clp.Optimizer)\n",
    "set_optimizer_attribute(master, \"LogLevel\",0)\n",
    "@variable(master,x[plantacao] >= 0)\n",
    "@variable(master,α)\n",
    "@constraint(master, α >= -999999)\n",
    "@constraint(master,LAND_AVAILABLE, sum(x[pl] for pl in plantacao) <= terra_disponivel)\n",
    "@objective(master, Min, sum(preco_producao[ipl] * x[pl] for (ipl, pl) in enumerate(plantacao)) + α)\n",
    "optimize!(master);\n",
    "\n",
    "iterator = 1\n",
    "Q̂i_list = []\n",
    "πi_list = []\n",
    "x̂i_list = []\n",
    "LB_list = []\n",
    "UB_list = []\n",
    "\n",
    "while true\n",
    "    LB = objective_value(master)\n",
    "    x̂i = value.(x)\n",
    "    append!(x̂i_list,[x̂i[\"Wheat\"],x̂i[\"Corn\"],x̂i[\"Sugar Cane\"]])\n",
    "\n",
    "    slave_Q̄i_list = []\n",
    "    slave_πiW_list = []\n",
    "    slave_πiC_list = []\n",
    "    slave_πiS_list = []\n",
    "    for ξ in cenarios\n",
    "        q̂, pîW,pîC,pîS = Q(x̂i[\"Wheat\"],x̂i[\"Corn\"],x̂i[\"Sugar Cane\"],ξ)\n",
    "        append!(slave_Q̄i_list, q̂)\n",
    "        append!(slave_πiW_list, pîW)\n",
    "        append!(slave_πiC_list, pîC)\n",
    "        append!(slave_πiS_list, pîS)\n",
    "    end\n",
    "\n",
    "    Q̂i = sum(slave_Q̄i_list)/size(slave_Q̄i_list,1)\n",
    "    πiW = sum(slave_πiW_list)/size(slave_πiW_list,1)\n",
    "    πiC = sum(slave_πiC_list)/size(slave_πiC_list,1)\n",
    "    πiS = sum(slave_πiS_list)/size(slave_πiS_list,1)\n",
    "\n",
    "    l_i = (x1,x2,x3) -> Q̂i + πiW*(x1-x̂i[\"Wheat\"]) + πiC*(x2-x̂i[\"Corn\"]) + πiS*(x3-x̂i[\"Sugar Cane\"])\n",
    "\n",
    "    append!(Q̂i_list, Q̂i)\n",
    "    append!(πi_list, [πiW,πiC,πiS])\n",
    "\n",
    "    UB = sum(preco_producao[ipl] * x̂i[pl] for (ipl, pl) in enumerate(plantacao)) + Q̂i\n",
    "    append!(LB_list, LB)\n",
    "    append!(UB_list, UB)\n",
    "\n",
    "    if UB-LB <0.01\n",
    "        println(\"**SOLUTION FOUND**\")\n",
    "        println( \"\"\"Iteration $(iterator): x̂$(iterator)[\"Wheat\"]: $(x̂i[\"Wheat\"]) & x̂$(iterator)[\"Corn\"]: $(x̂i[\"Corn\"]) & x̂$(iterator)[\"SugarCane\"]: $(x̂i[\"Sugar Cane\"])\"\"\")\n",
    "        println( \"Lower Bound: $(LB) & Uper Bound: $(UB)\")\n",
    "        println(\"===========\")\n",
    "        break\n",
    "    else\n",
    "        println( \"\"\"Iteration $(iterator): x̂$(iterator)[\"Wheat\"]: $(x̂i[\"Wheat\"]) & x̂$(iterator)[\"Corn\"]: $(x̂i[\"Corn\"]) & x̂$(iterator)[\"SugarCane\"]: $(x̂i[\"Sugar Cane\"])\"\"\")\n",
    "        println( \"Lower Bound: $(LB) & Uper Bound: $(UB)\")\n",
    "        println(\"===========\")\n",
    "    end\n",
    "    @constraint(master, α >= l_i(x[\"Wheat\"],x[\"Corn\"],x[\"Sugar Cane\"]))\n",
    "    optimize!(master);\n",
    "\n",
    "\n",
    "    iterator += 1\n",
    "end"
   ]
  }
 ],
 "metadata": {
  "kernelspec": {
   "display_name": "Julia 1.6.0",
   "language": "julia",
   "name": "julia-1.6"
  },
  "language_info": {
   "file_extension": ".jl",
   "mimetype": "application/julia",
   "name": "julia",
   "version": "1.6.0"
  }
 },
 "nbformat": 4,
 "nbformat_minor": 5
}
