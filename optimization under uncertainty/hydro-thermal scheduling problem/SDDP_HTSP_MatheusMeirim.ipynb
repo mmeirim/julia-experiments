{
 "cells": [
  {
   "cell_type": "code",
   "execution_count": 1,
   "id": "d6a82e7c",
   "metadata": {},
   "outputs": [],
   "source": [
    "using SDDP\n",
    "using GLPK"
   ]
  },
  {
   "cell_type": "code",
   "execution_count": 2,
   "id": "b6159bb0",
   "metadata": {},
   "outputs": [
    {
     "data": {
      "text/plain": [
       "4-element Vector{Int64}:\n",
       " 100\n",
       " 150\n",
       " 200\n",
       " 250"
      ]
     },
     "execution_count": 2,
     "metadata": {},
     "output_type": "execute_result"
    }
   ],
   "source": [
    "thermal_plants = [1,2,3,4]\n",
    "c0 = 2.592\n",
    "ρ = 0.96\n",
    "ci = [10, 20, 40, 80]\n",
    "cd = 500\n",
    "m = 1000\n",
    "vi = 2050\n",
    "vmax = 4100\n",
    "qmax = 1500\n",
    "ptmax = [100,150,200,250]"
   ]
  },
  {
   "cell_type": "code",
   "execution_count": 3,
   "id": "bb5a725d",
   "metadata": {},
   "outputs": [
    {
     "data": {
      "text/plain": [
       "Root\n",
       " 0\n",
       "Nodes\n",
       " 1\n",
       " 2\n",
       " 3\n",
       " 4\n",
       " 5\n",
       " 6\n",
       " 7\n",
       "Arcs\n",
       " 0 => 1 w.p. 1.0\n",
       " 1 => 2 w.p. 0.5\n",
       " 1 => 3 w.p. 0.5\n",
       " 2 => 4 w.p. 0.5\n",
       " 2 => 5 w.p. 0.5\n",
       " 3 => 6 w.p. 0.5\n",
       " 3 => 7 w.p. 0.5\n"
      ]
     },
     "execution_count": 3,
     "metadata": {},
     "output_type": "execute_result"
    }
   ],
   "source": [
    "graph = SDDP.LinearGraph(1)\n",
    "\n",
    "SDDP.add_node(graph,:2)\n",
    "SDDP.add_node(graph,:3)\n",
    "SDDP.add_node(graph,:4)\n",
    "SDDP.add_node(graph,:5)\n",
    "SDDP.add_node(graph,:6)\n",
    "SDDP.add_node(graph,:7)\n",
    "\n",
    "SDDP.add_edge(graph, 1 => 2, 0.5)\n",
    "SDDP.add_edge(graph, 1 => 3, 0.5)\n",
    "SDDP.add_edge(graph, 2 => 4, 0.5)\n",
    "SDDP.add_edge(graph, 2 => 5, 0.5)\n",
    "SDDP.add_edge(graph, 3 => 6, 0.5)\n",
    "SDDP.add_edge(graph, 3 => 7, 0.5)\n",
    "\n",
    "graph"
   ]
  },
  {
   "cell_type": "code",
   "execution_count": 4,
   "id": "2ebdedb1",
   "metadata": {},
   "outputs": [
    {
     "data": {
      "text/plain": [
       "A policy graph with 7 nodes.\n",
       " Node indices: 1, 2, 3, 4, 5, 6, 7\n"
      ]
     },
     "execution_count": 4,
     "metadata": {},
     "output_type": "execute_result"
    }
   ],
   "source": [
    "model = SDDP.PolicyGraph(\n",
    "    graph,\n",
    "    sense = :Min,\n",
    "    lower_bound = 0.0,\n",
    "    optimizer = GLPK.Optimizer,\n",
    ") do subproblem, node\n",
    "    # State variables\n",
    "    @variable(subproblem, 0 <= volume <= vmax, SDDP.State, initial_value = vi)\n",
    "    # Control variables\n",
    "    @variables(subproblem, begin\n",
    "        thermal_generation[thermal_plants] >= 0\n",
    "        0 <= hydro_generation <= qmax\n",
    "        hydro_spill >= 0\n",
    "        load_shedding >= 0\n",
    "    end)\n",
    "    # Random variables\n",
    "    if node == 1\n",
    "        @variable(subproblem, inflow)\n",
    "        Ω = [150.0]\n",
    "        P = [1.0]\n",
    "        SDDP.parameterize(subproblem, Ω, P) do ω\n",
    "            return JuMP.fix(inflow, ω)\n",
    "        end\n",
    "    elseif node == 2\n",
    "        @variable(subproblem, inflow)\n",
    "        Ω = [450.0,]\n",
    "        P = [1.0]\n",
    "        SDDP.parameterize(subproblem, Ω, P) do ω\n",
    "            return JuMP.fix(inflow, ω)\n",
    "        end\n",
    "    elseif node == 3\n",
    "        @variable(subproblem, inflow)\n",
    "        Ω = [300.0]\n",
    "        P = [1.0]\n",
    "        SDDP.parameterize(subproblem, Ω, P) do ω\n",
    "            return JuMP.fix(inflow, ω)\n",
    "        end\n",
    "    elseif node == 4\n",
    "        @variable(subproblem, inflow)\n",
    "        Ω = [771.0]\n",
    "        P = [1.0]\n",
    "        SDDP.parameterize(subproblem, Ω, P) do ω\n",
    "            return JuMP.fix(inflow, ω)\n",
    "        end\n",
    "    elseif node == 5\n",
    "        @variable(subproblem, inflow)\n",
    "        Ω = [213.0]\n",
    "        P = [1.0]\n",
    "        SDDP.parameterize(subproblem, Ω, P) do ω\n",
    "            return JuMP.fix(inflow, ω)\n",
    "        end\n",
    "    elseif node == 6\n",
    "        @variable(subproblem, inflow)\n",
    "        Ω = [771.0]\n",
    "        P = [1.0]\n",
    "        SDDP.parameterize(subproblem, Ω, P) do ω\n",
    "            return JuMP.fix(inflow, ω)\n",
    "        end\n",
    "    else\n",
    "        @assert node == 7\n",
    "        @variable(subproblem, inflow)\n",
    "        Ω = [213.0]\n",
    "        P = [1.0]\n",
    "        SDDP.parameterize(subproblem, Ω, P) do ω\n",
    "            return JuMP.fix(inflow, ω)\n",
    "        end\n",
    "    end\n",
    "    \n",
    "    # Transition function and constraints\n",
    "    @constraints(\n",
    "        subproblem,\n",
    "        begin\n",
    "            volume.out == volume.in - c0*(hydro_generation + hydro_spill) + c0*inflow\n",
    "            demand_constraint, sum(thermal_generation[i] for i in thermal_plants) + load_shedding + ρ*hydro_generation == m\n",
    "            thermal_generation_max_constraint[t in thermal_plants],thermal_generation[t] <= ptmax[t]\n",
    "        end\n",
    "    )\n",
    "    # Stage-objective\n",
    "    @stageobjective(subproblem, sum(ci[i]*thermal_generation[i] for i in thermal_plants) + cd*load_shedding)\n",
    "end"
   ]
  },
  {
   "cell_type": "code",
   "execution_count": 5,
   "id": "85eaf4ab",
   "metadata": {},
   "outputs": [
    {
     "name": "stdout",
     "output_type": "stream",
     "text": [
      "------------------------------------------------------------------------------\n",
      "                      SDDP.jl (c) Oscar Dowson, 2017-21\n",
      "\n",
      "Problem\n",
      "  Nodes           : 7\n",
      "  State variables : 1\n",
      "  Scenarios       : 4.00000e+00\n",
      "  Existing cuts   : false\n",
      "  Subproblem structure                      : (min, max)\n",
      "    Variables                               : (11, 11)\n",
      "    VariableRef in MOI.LessThan{Float64}    : (2, 3)\n",
      "    AffExpr in MOI.LessThan{Float64}        : (4, 4)\n",
      "    VariableRef in MOI.GreaterThan{Float64} : (9, 9)\n",
      "    AffExpr in MOI.EqualTo{Float64}         : (2, 2)\n",
      "Options\n",
      "  Solver          : serial mode\n",
      "  Risk measure    : SDDP.Expectation()\n",
      "  Sampling scheme : SDDP.InSampleMonteCarlo\n",
      "\n",
      "Numerical stability report\n",
      "  Non-zero Matrix range     [1e+00, 3e+00]\n",
      "  Non-zero Objective range  [1e+00, 5e+02]\n",
      "  Non-zero Bounds range     [2e+03, 4e+03]\n",
      "  Non-zero RHS range        [1e+02, 1e+03]\n",
      "No problems detected\n",
      "\n",
      " Iteration    Simulation       Bound         Time (s)    Proc. ID   # Solves\n",
      "        1    1.021674e+05   2.920186e+03   1.065800e+01          1          8\n",
      "        2    5.606030e+04   2.327324e+04   1.087300e+01          1         16\n",
      "        3    3.102335e+04   3.036973e+04   1.087600e+01          1         24\n",
      "        4    2.424581e+04   3.184990e+04   1.087700e+01          1         32\n",
      "        5    2.424581e+04   3.184990e+04   1.087800e+01          1         40\n",
      "        6    3.024646e+04   3.795028e+04   1.087900e+01          1         48\n",
      "        7    4.482086e+04   3.795028e+04   1.088000e+01          1         56\n",
      "        8    2.424581e+04   3.795028e+04   1.088100e+01          1         64\n",
      "        9    5.797657e+04   3.800870e+04   1.088200e+01          1         72\n",
      "       10    5.634086e+04   3.800870e+04   1.088200e+01          1         80\n",
      "\n",
      "Terminating training\n",
      "  Status         : iteration_limit\n",
      "  Total time (s) : 1.088200e+01\n",
      "  Total solves   : 80\n",
      "  Best bound     :  3.800870e+04\n",
      "  Simulation CI  :  4.513732e+04 ± 1.517157e+04\n",
      "------------------------------------------------------------------------------\n"
     ]
    }
   ],
   "source": [
    "SDDP.train(model; iteration_limit = 10)"
   ]
  },
  {
   "cell_type": "code",
   "execution_count": 6,
   "id": "601ce848",
   "metadata": {},
   "outputs": [],
   "source": [
    "simulations = SDDP.simulate(\n",
    "    # The trained model to simulate.\n",
    "    model,\n",
    "    # The number of replications.\n",
    "    100,\n",
    "    # A list of names to record the values of.\n",
    "    [:volume, :thermal_generation, :hydro_generation, :hydro_spill],\n",
    ");"
   ]
  },
  {
   "cell_type": "code",
   "execution_count": 7,
   "id": "a1f392e3",
   "metadata": {},
   "outputs": [
    {
     "name": "stdout",
     "output_type": "stream",
     "text": [
      "======================DISTINCT SIMULATIONS======================\n",
      "Simulation 1 - nodes: 1 -> 3 -> 6 , volumes: (953.8, 257.9, 0.0)\n",
      "Simulation 2 - nodes: 1 -> 2 -> 4 , volumes: (953.8, 635.2, 0.0)\n",
      "Simulation 3 - nodes: 1 -> 2 -> 5 , volumes: (953.8, 635.2, 0.0)\n",
      "Simulation 7 - nodes: 1 -> 3 -> 7 , volumes: (953.8, 257.9, 0.0)\n"
     ]
    }
   ],
   "source": [
    "nodes_dic = Dict{Vector{Int},Vector{Float64}}();\n",
    "simulations_used = []\n",
    "println(\"======================DISTINCT SIMULATIONS======================\")\n",
    "for s in 1:100\n",
    "    nodes = []\n",
    "    volumes = []\n",
    "    outgoing_volume = map(simulations[s]) do node\n",
    "        append!(nodes,node[:node_index])\n",
    "        append!(volumes,node[:volume].out)\n",
    "    end\n",
    "    if !(haskey(nodes_dic, nodes))\n",
    "        push!(nodes_dic, nodes =>volumes)\n",
    "        append!(simulations_used, s)\n",
    "        println(\"Simulation $(s) - nodes: $(nodes[1]) -> $(nodes[2]) -> $(nodes[3]) , volumes: ($(round(volumes[1],digits=2)), $(round(volumes[2],digits=2)), $(round(volumes[3],digits=2)))\")\n",
    "    end\n",
    "end"
   ]
  },
  {
   "cell_type": "code",
   "execution_count": 8,
   "id": "9f684188",
   "metadata": {},
   "outputs": [
    {
     "name": "stdout",
     "output_type": "stream",
     "text": [
      "======================DISTINCT SIMULATIONS======================\n",
      "\n",
      "Simulation 1\n",
      "Node 1, hydro_generation - 572.92, thermal_generations - T1: 100.0, T2: 150.0, T3: 200.0, T4: 0.0\n",
      "Node 3, hydro_generation - 568.48, thermal_generations - T1: 100.0, T2: 150.0, T3: 200.0, T4: 4.26\n",
      "Node 6, hydro_generation - 870.5, thermal_generations - T1: 100.0, T2: 64.32, T3: 0.0, T4: 0.0\n",
      "\n",
      "Simulation 2\n",
      "Node 1, hydro_generation - 572.92, thermal_generations - T1: 100.0, T2: 150.0, T3: 200.0, T4: 0.0\n",
      "Node 2, hydro_generation - 572.92, thermal_generations - T1: 100.0, T2: 150.0, T3: 200.0, T4: 0.0\n",
      "Node 4, hydro_generation - 1016.06, thermal_generations - T1: 24.58, T2: 0.0, T3: 0.0, T4: 0.0\n",
      "\n",
      "Simulation 3\n",
      "Node 1, hydro_generation - 572.92, thermal_generations - T1: 100.0, T2: 150.0, T3: 200.0, T4: 0.0\n",
      "Node 2, hydro_generation - 572.92, thermal_generations - T1: 100.0, T2: 150.0, T3: 200.0, T4: 0.0\n",
      "Node 5, hydro_generation - 458.06, thermal_generations - T1: 100.0, T2: 150.0, T3: 200.0, T4: 110.26\n",
      "\n",
      "Simulation 7\n",
      "Node 1, hydro_generation - 572.92, thermal_generations - T1: 100.0, T2: 150.0, T3: 200.0, T4: 0.0\n",
      "Node 3, hydro_generation - 568.48, thermal_generations - T1: 100.0, T2: 150.0, T3: 200.0, T4: 4.26\n",
      "Node 7, hydro_generation - 312.5, thermal_generations - T1: 100.0, T2: 150.0, T3: 200.0, T4: 250.0\n"
     ]
    }
   ],
   "source": [
    "println(\"======================DISTINCT SIMULATIONS======================\")\n",
    "for s in simulations_used\n",
    "    println(\"\\nSimulation $(s)\")\n",
    "    map(simulations[s]) do node\n",
    "        println(\"Node $(node[:node_index]), hydro_generation - $(round(node[:hydro_generation],digits=2)), thermal_generations - T1: $(round(node[:thermal_generation][1],digits=2)), T2: $(round(node[:thermal_generation][2],digits=2)), T3: $(round(node[:thermal_generation][3],digits=2)), T4: $(round(node[:thermal_generation][4],digits=2))\") \n",
    "    end\n",
    "end"
   ]
  },
  {
   "cell_type": "code",
   "execution_count": 9,
   "id": "69246795",
   "metadata": {},
   "outputs": [
    {
     "name": "stdout",
     "output_type": "stream",
     "text": [
      "Confidence interval: 37918.14577777779 ± 2640.480418390568\n",
      "Lower bound: 38008.69629629631\n"
     ]
    }
   ],
   "source": [
    "objectives = map(simulations) do simulation\n",
    "    return sum(stage[:stage_objective] for stage in simulation)\n",
    "end\n",
    "\n",
    "μ, ci = SDDP.confidence_interval(objectives)\n",
    "println(\"Confidence interval: \", μ, \" ± \", ci)\n",
    "println(\"Lower bound: \", SDDP.calculate_bound(model))"
   ]
  }
 ],
 "metadata": {
  "kernelspec": {
   "display_name": "Julia 1.6.0",
   "language": "julia",
   "name": "julia-1.6"
  },
  "language_info": {
   "file_extension": ".jl",
   "mimetype": "application/julia",
   "name": "julia",
   "version": "1.6.0"
  }
 },
 "nbformat": 4,
 "nbformat_minor": 5
}
